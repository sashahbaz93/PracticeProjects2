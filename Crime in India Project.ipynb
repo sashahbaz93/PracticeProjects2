{
 "cells": [
  {
   "cell_type": "markdown",
   "metadata": {},
   "source": [
    "# Indian Crime Data Analysis"
   ]
  },
  {
   "cell_type": "markdown",
   "metadata": {},
   "source": [
    "# Hypothesis"
   ]
  },
  {
   "cell_type": "markdown",
   "metadata": {},
   "source": [
    "A detail analysis and visualization of the crimes committed."
   ]
  },
  {
   "cell_type": "markdown",
   "metadata": {},
   "source": [
    "The objective of this project is to find out which state has the highest crime rate and which is the crime that is committed."
   ]
  },
  {
   "cell_type": "markdown",
   "metadata": {},
   "source": [
    "We’ll be importing pandas library to access the data-set. After that, we’ll read our CSV file into a data frame (df)."
   ]
  },
  {
   "cell_type": "code",
   "execution_count": 9,
   "metadata": {},
   "outputs": [
    {
     "data": {
      "text/html": [
       "<div>\n",
       "<style scoped>\n",
       "    .dataframe tbody tr th:only-of-type {\n",
       "        vertical-align: middle;\n",
       "    }\n",
       "\n",
       "    .dataframe tbody tr th {\n",
       "        vertical-align: top;\n",
       "    }\n",
       "\n",
       "    .dataframe thead th {\n",
       "        text-align: right;\n",
       "    }\n",
       "</style>\n",
       "<table border=\"1\" class=\"dataframe\">\n",
       "  <thead>\n",
       "    <tr style=\"text-align: right;\">\n",
       "      <th></th>\n",
       "      <th>STATE/UT</th>\n",
       "      <th>CRIME HEAD</th>\n",
       "      <th>2001</th>\n",
       "      <th>2002</th>\n",
       "      <th>2003</th>\n",
       "      <th>2004</th>\n",
       "      <th>2005</th>\n",
       "      <th>2006</th>\n",
       "      <th>2007</th>\n",
       "      <th>2008</th>\n",
       "      <th>2009</th>\n",
       "      <th>2010</th>\n",
       "      <th>2011</th>\n",
       "      <th>2012</th>\n",
       "    </tr>\n",
       "  </thead>\n",
       "  <tbody>\n",
       "    <tr>\n",
       "      <th>0</th>\n",
       "      <td>ANDHRA PRADESH</td>\n",
       "      <td>INFANTICIDE</td>\n",
       "      <td>1</td>\n",
       "      <td>1</td>\n",
       "      <td>3</td>\n",
       "      <td>0</td>\n",
       "      <td>0</td>\n",
       "      <td>0</td>\n",
       "      <td>1</td>\n",
       "      <td>0</td>\n",
       "      <td>5</td>\n",
       "      <td>6</td>\n",
       "      <td>1</td>\n",
       "      <td>6</td>\n",
       "    </tr>\n",
       "    <tr>\n",
       "      <th>1</th>\n",
       "      <td>ARUNACHAL PRADESH</td>\n",
       "      <td>INFANTICIDE</td>\n",
       "      <td>0</td>\n",
       "      <td>0</td>\n",
       "      <td>0</td>\n",
       "      <td>0</td>\n",
       "      <td>0</td>\n",
       "      <td>0</td>\n",
       "      <td>0</td>\n",
       "      <td>0</td>\n",
       "      <td>0</td>\n",
       "      <td>0</td>\n",
       "      <td>0</td>\n",
       "      <td>0</td>\n",
       "    </tr>\n",
       "    <tr>\n",
       "      <th>2</th>\n",
       "      <td>ASSAM</td>\n",
       "      <td>INFANTICIDE</td>\n",
       "      <td>0</td>\n",
       "      <td>5</td>\n",
       "      <td>0</td>\n",
       "      <td>0</td>\n",
       "      <td>1</td>\n",
       "      <td>0</td>\n",
       "      <td>0</td>\n",
       "      <td>0</td>\n",
       "      <td>0</td>\n",
       "      <td>0</td>\n",
       "      <td>0</td>\n",
       "      <td>0</td>\n",
       "    </tr>\n",
       "    <tr>\n",
       "      <th>3</th>\n",
       "      <td>BIHAR</td>\n",
       "      <td>INFANTICIDE</td>\n",
       "      <td>0</td>\n",
       "      <td>0</td>\n",
       "      <td>0</td>\n",
       "      <td>0</td>\n",
       "      <td>2</td>\n",
       "      <td>0</td>\n",
       "      <td>2</td>\n",
       "      <td>2</td>\n",
       "      <td>0</td>\n",
       "      <td>2</td>\n",
       "      <td>5</td>\n",
       "      <td>2</td>\n",
       "    </tr>\n",
       "    <tr>\n",
       "      <th>4</th>\n",
       "      <td>CHHATTISGARH</td>\n",
       "      <td>INFANTICIDE</td>\n",
       "      <td>7</td>\n",
       "      <td>29</td>\n",
       "      <td>5</td>\n",
       "      <td>12</td>\n",
       "      <td>0</td>\n",
       "      <td>15</td>\n",
       "      <td>11</td>\n",
       "      <td>6</td>\n",
       "      <td>2</td>\n",
       "      <td>0</td>\n",
       "      <td>10</td>\n",
       "      <td>5</td>\n",
       "    </tr>\n",
       "  </tbody>\n",
       "</table>\n",
       "</div>"
      ],
      "text/plain": [
       "            STATE/UT   CRIME HEAD  2001  2002  2003  2004  2005  2006  2007  \\\n",
       "0     ANDHRA PRADESH  INFANTICIDE     1     1     3     0     0     0     1   \n",
       "1  ARUNACHAL PRADESH  INFANTICIDE     0     0     0     0     0     0     0   \n",
       "2              ASSAM  INFANTICIDE     0     5     0     0     1     0     0   \n",
       "3              BIHAR  INFANTICIDE     0     0     0     0     2     0     2   \n",
       "4       CHHATTISGARH  INFANTICIDE     7    29     5    12     0    15    11   \n",
       "\n",
       "   2008  2009  2010  2011  2012  \n",
       "0     0     5     6     1     6  \n",
       "1     0     0     0     0     0  \n",
       "2     0     0     0     0     0  \n",
       "3     2     0     2     5     2  \n",
       "4     6     2     0    10     5  "
      ]
     },
     "execution_count": 9,
     "metadata": {},
     "output_type": "execute_result"
    }
   ],
   "source": [
    "import pandas as pd\n",
    "df = pd.read_csv('https://query.data.world/s/2flixt3ifiq4j43dr5is3u362jnugw')\n",
    "df.head()"
   ]
  },
  {
   "cell_type": "markdown",
   "metadata": {},
   "source": [
    "# DATA WRANGLING"
   ]
  },
  {
   "cell_type": "markdown",
   "metadata": {},
   "source": [
    "Data wrangling is the process of cleaning complex data sets for doing operations and analysis. \n",
    "\n",
    "Since the values are present in yearly format we’ll club them to do the operations. For that, we’ll use the following code:-"
   ]
  },
  {
   "cell_type": "code",
   "execution_count": 10,
   "metadata": {},
   "outputs": [
    {
     "data": {
      "text/html": [
       "<div>\n",
       "<style scoped>\n",
       "    .dataframe tbody tr th:only-of-type {\n",
       "        vertical-align: middle;\n",
       "    }\n",
       "\n",
       "    .dataframe tbody tr th {\n",
       "        vertical-align: top;\n",
       "    }\n",
       "\n",
       "    .dataframe thead th {\n",
       "        text-align: right;\n",
       "    }\n",
       "</style>\n",
       "<table border=\"1\" class=\"dataframe\">\n",
       "  <thead>\n",
       "    <tr style=\"text-align: right;\">\n",
       "      <th></th>\n",
       "      <th>STATE/UT</th>\n",
       "      <th>CRIME HEAD</th>\n",
       "      <th>2001</th>\n",
       "      <th>2002</th>\n",
       "      <th>2003</th>\n",
       "      <th>2004</th>\n",
       "      <th>2005</th>\n",
       "      <th>2006</th>\n",
       "      <th>2007</th>\n",
       "      <th>2008</th>\n",
       "      <th>2009</th>\n",
       "      <th>2010</th>\n",
       "      <th>2011</th>\n",
       "      <th>2012</th>\n",
       "      <th>total</th>\n",
       "    </tr>\n",
       "  </thead>\n",
       "  <tbody>\n",
       "    <tr>\n",
       "      <th>0</th>\n",
       "      <td>ANDHRA PRADESH</td>\n",
       "      <td>INFANTICIDE</td>\n",
       "      <td>1</td>\n",
       "      <td>1</td>\n",
       "      <td>3</td>\n",
       "      <td>0</td>\n",
       "      <td>0</td>\n",
       "      <td>0</td>\n",
       "      <td>1</td>\n",
       "      <td>0</td>\n",
       "      <td>5</td>\n",
       "      <td>6</td>\n",
       "      <td>1</td>\n",
       "      <td>6</td>\n",
       "      <td>24</td>\n",
       "    </tr>\n",
       "    <tr>\n",
       "      <th>1</th>\n",
       "      <td>ARUNACHAL PRADESH</td>\n",
       "      <td>INFANTICIDE</td>\n",
       "      <td>0</td>\n",
       "      <td>0</td>\n",
       "      <td>0</td>\n",
       "      <td>0</td>\n",
       "      <td>0</td>\n",
       "      <td>0</td>\n",
       "      <td>0</td>\n",
       "      <td>0</td>\n",
       "      <td>0</td>\n",
       "      <td>0</td>\n",
       "      <td>0</td>\n",
       "      <td>0</td>\n",
       "      <td>0</td>\n",
       "    </tr>\n",
       "    <tr>\n",
       "      <th>2</th>\n",
       "      <td>ASSAM</td>\n",
       "      <td>INFANTICIDE</td>\n",
       "      <td>0</td>\n",
       "      <td>5</td>\n",
       "      <td>0</td>\n",
       "      <td>0</td>\n",
       "      <td>1</td>\n",
       "      <td>0</td>\n",
       "      <td>0</td>\n",
       "      <td>0</td>\n",
       "      <td>0</td>\n",
       "      <td>0</td>\n",
       "      <td>0</td>\n",
       "      <td>0</td>\n",
       "      <td>6</td>\n",
       "    </tr>\n",
       "    <tr>\n",
       "      <th>3</th>\n",
       "      <td>BIHAR</td>\n",
       "      <td>INFANTICIDE</td>\n",
       "      <td>0</td>\n",
       "      <td>0</td>\n",
       "      <td>0</td>\n",
       "      <td>0</td>\n",
       "      <td>2</td>\n",
       "      <td>0</td>\n",
       "      <td>2</td>\n",
       "      <td>2</td>\n",
       "      <td>0</td>\n",
       "      <td>2</td>\n",
       "      <td>5</td>\n",
       "      <td>2</td>\n",
       "      <td>15</td>\n",
       "    </tr>\n",
       "    <tr>\n",
       "      <th>4</th>\n",
       "      <td>CHHATTISGARH</td>\n",
       "      <td>INFANTICIDE</td>\n",
       "      <td>7</td>\n",
       "      <td>29</td>\n",
       "      <td>5</td>\n",
       "      <td>12</td>\n",
       "      <td>0</td>\n",
       "      <td>15</td>\n",
       "      <td>11</td>\n",
       "      <td>6</td>\n",
       "      <td>2</td>\n",
       "      <td>0</td>\n",
       "      <td>10</td>\n",
       "      <td>5</td>\n",
       "      <td>102</td>\n",
       "    </tr>\n",
       "  </tbody>\n",
       "</table>\n",
       "</div>"
      ],
      "text/plain": [
       "            STATE/UT   CRIME HEAD  2001  2002  2003  2004  2005  2006  2007  \\\n",
       "0     ANDHRA PRADESH  INFANTICIDE     1     1     3     0     0     0     1   \n",
       "1  ARUNACHAL PRADESH  INFANTICIDE     0     0     0     0     0     0     0   \n",
       "2              ASSAM  INFANTICIDE     0     5     0     0     1     0     0   \n",
       "3              BIHAR  INFANTICIDE     0     0     0     0     2     0     2   \n",
       "4       CHHATTISGARH  INFANTICIDE     7    29     5    12     0    15    11   \n",
       "\n",
       "   2008  2009  2010  2011  2012  total  \n",
       "0     0     5     6     1     6     24  \n",
       "1     0     0     0     0     0      0  \n",
       "2     0     0     0     0     0      6  \n",
       "3     2     0     2     5     2     15  \n",
       "4     6     2     0    10     5    102  "
      ]
     },
     "execution_count": 10,
     "metadata": {},
     "output_type": "execute_result"
    }
   ],
   "source": [
    "df['total']=df.iloc[:,-12:].sum(axis=1)\n",
    "df.head()"
   ]
  },
  {
   "cell_type": "markdown",
   "metadata": {},
   "source": [
    "Now, that we have added a new column we don’t need all the other columns so to simplify our data frame we’ll drop them."
   ]
  },
  {
   "cell_type": "code",
   "execution_count": 11,
   "metadata": {},
   "outputs": [
    {
     "data": {
      "text/html": [
       "<div>\n",
       "<style scoped>\n",
       "    .dataframe tbody tr th:only-of-type {\n",
       "        vertical-align: middle;\n",
       "    }\n",
       "\n",
       "    .dataframe tbody tr th {\n",
       "        vertical-align: top;\n",
       "    }\n",
       "\n",
       "    .dataframe thead th {\n",
       "        text-align: right;\n",
       "    }\n",
       "</style>\n",
       "<table border=\"1\" class=\"dataframe\">\n",
       "  <thead>\n",
       "    <tr style=\"text-align: right;\">\n",
       "      <th></th>\n",
       "      <th>STATE/UT</th>\n",
       "      <th>CRIME HEAD</th>\n",
       "      <th>total</th>\n",
       "    </tr>\n",
       "  </thead>\n",
       "  <tbody>\n",
       "    <tr>\n",
       "      <th>0</th>\n",
       "      <td>ANDHRA PRADESH</td>\n",
       "      <td>INFANTICIDE</td>\n",
       "      <td>24</td>\n",
       "    </tr>\n",
       "    <tr>\n",
       "      <th>1</th>\n",
       "      <td>ARUNACHAL PRADESH</td>\n",
       "      <td>INFANTICIDE</td>\n",
       "      <td>0</td>\n",
       "    </tr>\n",
       "    <tr>\n",
       "      <th>2</th>\n",
       "      <td>ASSAM</td>\n",
       "      <td>INFANTICIDE</td>\n",
       "      <td>6</td>\n",
       "    </tr>\n",
       "    <tr>\n",
       "      <th>3</th>\n",
       "      <td>BIHAR</td>\n",
       "      <td>INFANTICIDE</td>\n",
       "      <td>15</td>\n",
       "    </tr>\n",
       "    <tr>\n",
       "      <th>4</th>\n",
       "      <td>CHHATTISGARH</td>\n",
       "      <td>INFANTICIDE</td>\n",
       "      <td>102</td>\n",
       "    </tr>\n",
       "  </tbody>\n",
       "</table>\n",
       "</div>"
      ],
      "text/plain": [
       "            STATE/UT   CRIME HEAD  total\n",
       "0     ANDHRA PRADESH  INFANTICIDE     24\n",
       "1  ARUNACHAL PRADESH  INFANTICIDE      0\n",
       "2              ASSAM  INFANTICIDE      6\n",
       "3              BIHAR  INFANTICIDE     15\n",
       "4       CHHATTISGARH  INFANTICIDE    102"
      ]
     },
     "execution_count": 11,
     "metadata": {},
     "output_type": "execute_result"
    }
   ],
   "source": [
    "df.drop(df.columns[[2,3,4,5,6,7,8,9,10,11,12,13]], axis = 1, inplace = True)\n",
    "df.head()"
   ]
  },
  {
   "cell_type": "markdown",
   "metadata": {},
   "source": [
    "To get a concise summary of the data frame we’ll use info() function. It helps obtain a quick overview of the data-set."
   ]
  },
  {
   "cell_type": "code",
   "execution_count": 12,
   "metadata": {},
   "outputs": [
    {
     "name": "stdout",
     "output_type": "stream",
     "text": [
      "<class 'pandas.core.frame.DataFrame'>\n",
      "RangeIndex: 494 entries, 0 to 493\n",
      "Data columns (total 3 columns):\n",
      " #   Column      Non-Null Count  Dtype \n",
      "---  ------      --------------  ----- \n",
      " 0   STATE/UT    494 non-null    object\n",
      " 1   CRIME HEAD  494 non-null    object\n",
      " 2   total       494 non-null    int64 \n",
      "dtypes: int64(1), object(2)\n",
      "memory usage: 11.7+ KB\n"
     ]
    }
   ],
   "source": [
    "df.info()"
   ]
  },
  {
   "cell_type": "markdown",
   "metadata": {},
   "source": [
    "As we can see in the output, the summary includes a list of all columns with their data types and the number of non-null values in each column. And since our values are not null we don’t have to fill the missing values.\n",
    "\n",
    "We just want to access the State & Union territory data against the crimes. So we’ll drop rows containing a total of the values, for better visualization."
   ]
  },
  {
   "cell_type": "code",
   "execution_count": 13,
   "metadata": {},
   "outputs": [],
   "source": [
    "d=df[:-38] #to drop total crime rows"
   ]
  },
  {
   "cell_type": "markdown",
   "metadata": {},
   "source": [
    "dropped the last 38 rows containing the total values."
   ]
  },
  {
   "cell_type": "markdown",
   "metadata": {},
   "source": [
    "# DATA VISUALIZATION"
   ]
  },
  {
   "cell_type": "markdown",
   "metadata": {},
   "source": [
    "Visualization of data helps in understanding the trends, outliers, and patterns in the data.\n",
    "\n",
    "\n",
    "We’ll plot a bar graph to know which crime was most prevalent in India. For that, we’ll be importing ‘matplotlib’ library to plot the graph with just 3 lines of code."
   ]
  },
  {
   "cell_type": "code",
   "execution_count": 14,
   "metadata": {},
   "outputs": [
    {
     "data": {
      "text/plain": [
       "<BarContainer object of 456 artists>"
      ]
     },
     "execution_count": 14,
     "metadata": {},
     "output_type": "execute_result"
    },
    {
     "data": {
      "image/png": "[encoded data removed]",
      "text/plain": [
       "<Figure size 432x288 with 1 Axes>"
      ]
     },
     "metadata": {
      "needs_background": "light"
     },
     "output_type": "display_data"
    }
   ],
   "source": [
    "import matplotlib.pyplot as plt\n",
    "plt.xticks(rotation='vertical')\n",
    "plt.bar(x=\"CRIME HEAD\", height=\"total\", width=0.8, bottom=None, align='center', data=d)"
   ]
  },
  {
   "cell_type": "markdown",
   "metadata": {},
   "source": [
    "From the graph, we can see that the ‘other crimes’ category has the highest number followed by “Kidnapping” and “Rape” of children. So, we’ll focus on these types as they are more prevalent."
   ]
  },
  {
   "cell_type": "raw",
   "metadata": {},
   "source": [
    "ANALYZING SPECIFIC CRIMES"
   ]
  },
  {
   "cell_type": "code",
   "execution_count": null,
   "metadata": {},
   "outputs": [],
   "source": [
    "We’ll analyze specific crimes one by one to get better insights. First on the list is kidnapping."
   ]
  },
  {
   "cell_type": "code",
   "execution_count": 25,
   "metadata": {},
   "outputs": [
    {
     "data": {
      "text/plain": [
       "<matplotlib.axes._subplots.AxesSubplot at 0x1aa02726a90>"
      ]
     },
     "execution_count": 25,
     "metadata": {},
     "output_type": "execute_result"
    },
    {
     "data": {
      "image/png": "[encoded data removed]",
      "text/plain": [
       "<Figure size 432x288 with 1 Axes>"
      ]
     },
     "metadata": {
      "needs_background": "light"
     },
     "output_type": "display_data"
    }
   ],
   "source": [
    "#Analyzing a specific crime-kidnapping\n",
    "\n",
    "kidnap = d[d.crime_list.str.contains('KIDNAPPING and ABDUCTION OF CHILDREN')]\n",
    "kidnap.shape\n",
    "k=kidnap.drop(kidnap.index[[-1,-2,-10]])\n",
    "k.plot(kind='bar',x='State/UT',y='count',color='blue')"
   ]
  },
  {
   "cell_type": "markdown",
   "metadata": {},
   "source": [
    "By seeing the graph we can point out that Uttar Pradesh has the highest number of kidnapping with a total of 30,625 cases which is 38% of total states. This is an appalling number for a state, there has been chaos. Because of such high rates, people are spreading false rumors of child abduction and kidnapping. And due to this situation, the state has announced: “Charges under the National Security Act (NSA) will be pressed against the accused if such cases are reported in the future.”"
   ]
  },
  {
   "cell_type": "code",
   "execution_count": 26,
   "metadata": {},
   "outputs": [],
   "source": [
    "#Now, we’ll visualize the second-highest crime i.e. Rape of children."
   ]
  },
  {
   "cell_type": "code",
   "execution_count": 29,
   "metadata": {},
   "outputs": [
    {
     "data": {
      "text/plain": [
       "<matplotlib.axes._subplots.AxesSubplot at 0x1aa02a048e0>"
      ]
     },
     "execution_count": 29,
     "metadata": {},
     "output_type": "execute_result"
    },
    {
     "data": {
      "image/png": "[encoded data removed]",
      "text/plain": [
       "<Figure size 432x288 with 1 Axes>"
      ]
     },
     "metadata": {
      "needs_background": "light"
     },
     "output_type": "display_data"
    }
   ],
   "source": [
    "#Analyzing a specific crime-rape\n",
    "\n",
    "rape = d[d.crime_list.str.contains('RAPE OF CHILDREN')]\n",
    "r=rape.drop(rape.index[[-1,-2,-10]])\n",
    "r.plot(kind='bar',x='State/UT',y='count',color='blue')"
   ]
  },
  {
   "cell_type": "markdown",
   "metadata": {},
   "source": [
    "The graph shows that Madhya Pradesh accounts for most rape cases. To fight this, the state has adopted law to award death sentences to those found guilty of raping minors, a landmark decision in a state that recorded the highest number of child rapes."
   ]
  },
  {
   "cell_type": "code",
   "execution_count": 17,
   "metadata": {},
   "outputs": [
    {
     "data": {
      "text/plain": [
       "(38, 3)"
      ]
     },
     "execution_count": 17,
     "metadata": {},
     "output_type": "execute_result"
    }
   ],
   "source": [
    "rape.shape"
   ]
  },
  {
   "cell_type": "code",
   "execution_count": 18,
   "metadata": {},
   "outputs": [
    {
     "data": {
      "text/html": [
       "<div>\n",
       "<style scoped>\n",
       "    .dataframe tbody tr th:only-of-type {\n",
       "        vertical-align: middle;\n",
       "    }\n",
       "\n",
       "    .dataframe tbody tr th {\n",
       "        vertical-align: top;\n",
       "    }\n",
       "\n",
       "    .dataframe thead th {\n",
       "        text-align: right;\n",
       "    }\n",
       "</style>\n",
       "<table border=\"1\" class=\"dataframe\">\n",
       "  <thead>\n",
       "    <tr style=\"text-align: right;\">\n",
       "      <th></th>\n",
       "      <th>State/UT</th>\n",
       "      <th>crime_list</th>\n",
       "      <th>count</th>\n",
       "    </tr>\n",
       "  </thead>\n",
       "  <tbody>\n",
       "    <tr>\n",
       "      <th>76</th>\n",
       "      <td>ANDHRA PRADESH</td>\n",
       "      <td>RAPE OF CHILDREN</td>\n",
       "      <td>5023</td>\n",
       "    </tr>\n",
       "    <tr>\n",
       "      <th>77</th>\n",
       "      <td>ARUNACHAL PRADESH</td>\n",
       "      <td>RAPE OF CHILDREN</td>\n",
       "      <td>96</td>\n",
       "    </tr>\n",
       "    <tr>\n",
       "      <th>78</th>\n",
       "      <td>ASSAM</td>\n",
       "      <td>RAPE OF CHILDREN</td>\n",
       "      <td>443</td>\n",
       "    </tr>\n",
       "    <tr>\n",
       "      <th>79</th>\n",
       "      <td>BIHAR</td>\n",
       "      <td>RAPE OF CHILDREN</td>\n",
       "      <td>692</td>\n",
       "    </tr>\n",
       "    <tr>\n",
       "      <th>80</th>\n",
       "      <td>CHHATTISGARH</td>\n",
       "      <td>RAPE OF CHILDREN</td>\n",
       "      <td>4391</td>\n",
       "    </tr>\n",
       "    <tr>\n",
       "      <th>81</th>\n",
       "      <td>GOA</td>\n",
       "      <td>RAPE OF CHILDREN</td>\n",
       "      <td>309</td>\n",
       "    </tr>\n",
       "    <tr>\n",
       "      <th>82</th>\n",
       "      <td>GUJARAT</td>\n",
       "      <td>RAPE OF CHILDREN</td>\n",
       "      <td>1514</td>\n",
       "    </tr>\n",
       "    <tr>\n",
       "      <th>83</th>\n",
       "      <td>HARYANA</td>\n",
       "      <td>RAPE OF CHILDREN</td>\n",
       "      <td>1785</td>\n",
       "    </tr>\n",
       "    <tr>\n",
       "      <th>84</th>\n",
       "      <td>HIMACHAL PRADESH</td>\n",
       "      <td>RAPE OF CHILDREN</td>\n",
       "      <td>819</td>\n",
       "    </tr>\n",
       "    <tr>\n",
       "      <th>85</th>\n",
       "      <td>JAMMU &amp; KASHMIR</td>\n",
       "      <td>RAPE OF CHILDREN</td>\n",
       "      <td>79</td>\n",
       "    </tr>\n",
       "    <tr>\n",
       "      <th>86</th>\n",
       "      <td>JHARKHAND</td>\n",
       "      <td>RAPE OF CHILDREN</td>\n",
       "      <td>313</td>\n",
       "    </tr>\n",
       "    <tr>\n",
       "      <th>87</th>\n",
       "      <td>KARNATAKA</td>\n",
       "      <td>RAPE OF CHILDREN</td>\n",
       "      <td>1019</td>\n",
       "    </tr>\n",
       "    <tr>\n",
       "      <th>88</th>\n",
       "      <td>KERALA</td>\n",
       "      <td>RAPE OF CHILDREN</td>\n",
       "      <td>3060</td>\n",
       "    </tr>\n",
       "    <tr>\n",
       "      <th>89</th>\n",
       "      <td>MADHYA PRADESH</td>\n",
       "      <td>RAPE OF CHILDREN</td>\n",
       "      <td>13688</td>\n",
       "    </tr>\n",
       "    <tr>\n",
       "      <th>90</th>\n",
       "      <td>MAHARASHTRA</td>\n",
       "      <td>RAPE OF CHILDREN</td>\n",
       "      <td>9757</td>\n",
       "    </tr>\n",
       "    <tr>\n",
       "      <th>91</th>\n",
       "      <td>MANIPUR</td>\n",
       "      <td>RAPE OF CHILDREN</td>\n",
       "      <td>47</td>\n",
       "    </tr>\n",
       "    <tr>\n",
       "      <th>92</th>\n",
       "      <td>MEGHALAYA</td>\n",
       "      <td>RAPE OF CHILDREN</td>\n",
       "      <td>346</td>\n",
       "    </tr>\n",
       "    <tr>\n",
       "      <th>93</th>\n",
       "      <td>MIZORAM</td>\n",
       "      <td>RAPE OF CHILDREN</td>\n",
       "      <td>281</td>\n",
       "    </tr>\n",
       "    <tr>\n",
       "      <th>94</th>\n",
       "      <td>NAGALAND</td>\n",
       "      <td>RAPE OF CHILDREN</td>\n",
       "      <td>35</td>\n",
       "    </tr>\n",
       "    <tr>\n",
       "      <th>95</th>\n",
       "      <td>ODISHA</td>\n",
       "      <td>RAPE OF CHILDREN</td>\n",
       "      <td>964</td>\n",
       "    </tr>\n",
       "    <tr>\n",
       "      <th>96</th>\n",
       "      <td>PUNJAB</td>\n",
       "      <td>RAPE OF CHILDREN</td>\n",
       "      <td>1597</td>\n",
       "    </tr>\n",
       "    <tr>\n",
       "      <th>97</th>\n",
       "      <td>RAJASTHAN</td>\n",
       "      <td>RAPE OF CHILDREN</td>\n",
       "      <td>2940</td>\n",
       "    </tr>\n",
       "    <tr>\n",
       "      <th>98</th>\n",
       "      <td>SIKKIM</td>\n",
       "      <td>RAPE OF CHILDREN</td>\n",
       "      <td>121</td>\n",
       "    </tr>\n",
       "    <tr>\n",
       "      <th>99</th>\n",
       "      <td>TAMIL NADU</td>\n",
       "      <td>RAPE OF CHILDREN</td>\n",
       "      <td>1841</td>\n",
       "    </tr>\n",
       "    <tr>\n",
       "      <th>100</th>\n",
       "      <td>TRIPURA</td>\n",
       "      <td>RAPE OF CHILDREN</td>\n",
       "      <td>474</td>\n",
       "    </tr>\n",
       "    <tr>\n",
       "      <th>101</th>\n",
       "      <td>UTTAR PRADESH</td>\n",
       "      <td>RAPE OF CHILDREN</td>\n",
       "      <td>9934</td>\n",
       "    </tr>\n",
       "    <tr>\n",
       "      <th>102</th>\n",
       "      <td>UTTARAKHAND</td>\n",
       "      <td>RAPE OF CHILDREN</td>\n",
       "      <td>236</td>\n",
       "    </tr>\n",
       "    <tr>\n",
       "      <th>103</th>\n",
       "      <td>WEST BENGAL</td>\n",
       "      <td>RAPE OF CHILDREN</td>\n",
       "      <td>794</td>\n",
       "    </tr>\n",
       "    <tr>\n",
       "      <th>104</th>\n",
       "      <td>TOTAL (STATES)</td>\n",
       "      <td>RAPE OF CHILDREN</td>\n",
       "      <td>62598</td>\n",
       "    </tr>\n",
       "    <tr>\n",
       "      <th>105</th>\n",
       "      <td>A &amp; N ISLANDS</td>\n",
       "      <td>RAPE OF CHILDREN</td>\n",
       "      <td>110</td>\n",
       "    </tr>\n",
       "    <tr>\n",
       "      <th>106</th>\n",
       "      <td>CHANDIGARH</td>\n",
       "      <td>RAPE OF CHILDREN</td>\n",
       "      <td>170</td>\n",
       "    </tr>\n",
       "    <tr>\n",
       "      <th>107</th>\n",
       "      <td>D &amp; N HAVELI</td>\n",
       "      <td>RAPE OF CHILDREN</td>\n",
       "      <td>14</td>\n",
       "    </tr>\n",
       "    <tr>\n",
       "      <th>108</th>\n",
       "      <td>DAMAN &amp; DIU</td>\n",
       "      <td>RAPE OF CHILDREN</td>\n",
       "      <td>18</td>\n",
       "    </tr>\n",
       "    <tr>\n",
       "      <th>109</th>\n",
       "      <td>DELHI</td>\n",
       "      <td>RAPE OF CHILDREN</td>\n",
       "      <td>3796</td>\n",
       "    </tr>\n",
       "    <tr>\n",
       "      <th>110</th>\n",
       "      <td>LAKSHADWEEP</td>\n",
       "      <td>RAPE OF CHILDREN</td>\n",
       "      <td>0</td>\n",
       "    </tr>\n",
       "    <tr>\n",
       "      <th>111</th>\n",
       "      <td>PUDUCHERRY</td>\n",
       "      <td>RAPE OF CHILDREN</td>\n",
       "      <td>71</td>\n",
       "    </tr>\n",
       "    <tr>\n",
       "      <th>112</th>\n",
       "      <td>TOTAL (UTs)</td>\n",
       "      <td>RAPE OF CHILDREN</td>\n",
       "      <td>4179</td>\n",
       "    </tr>\n",
       "    <tr>\n",
       "      <th>113</th>\n",
       "      <td>TOTAL (ALL-INDIA)</td>\n",
       "      <td>RAPE OF CHILDREN</td>\n",
       "      <td>66777</td>\n",
       "    </tr>\n",
       "  </tbody>\n",
       "</table>\n",
       "</div>"
      ],
      "text/plain": [
       "              State/UT        crime_list  count\n",
       "76      ANDHRA PRADESH  RAPE OF CHILDREN   5023\n",
       "77   ARUNACHAL PRADESH  RAPE OF CHILDREN     96\n",
       "78               ASSAM  RAPE OF CHILDREN    443\n",
       "79               BIHAR  RAPE OF CHILDREN    692\n",
       "80        CHHATTISGARH  RAPE OF CHILDREN   4391\n",
       "81                 GOA  RAPE OF CHILDREN    309\n",
       "82             GUJARAT  RAPE OF CHILDREN   1514\n",
       "83             HARYANA  RAPE OF CHILDREN   1785\n",
       "84    HIMACHAL PRADESH  RAPE OF CHILDREN    819\n",
       "85     JAMMU & KASHMIR  RAPE OF CHILDREN     79\n",
       "86           JHARKHAND  RAPE OF CHILDREN    313\n",
       "87           KARNATAKA  RAPE OF CHILDREN   1019\n",
       "88              KERALA  RAPE OF CHILDREN   3060\n",
       "89      MADHYA PRADESH  RAPE OF CHILDREN  13688\n",
       "90         MAHARASHTRA  RAPE OF CHILDREN   9757\n",
       "91             MANIPUR  RAPE OF CHILDREN     47\n",
       "92           MEGHALAYA  RAPE OF CHILDREN    346\n",
       "93             MIZORAM  RAPE OF CHILDREN    281\n",
       "94            NAGALAND  RAPE OF CHILDREN     35\n",
       "95              ODISHA  RAPE OF CHILDREN    964\n",
       "96              PUNJAB  RAPE OF CHILDREN   1597\n",
       "97           RAJASTHAN  RAPE OF CHILDREN   2940\n",
       "98              SIKKIM  RAPE OF CHILDREN    121\n",
       "99          TAMIL NADU  RAPE OF CHILDREN   1841\n",
       "100            TRIPURA  RAPE OF CHILDREN    474\n",
       "101      UTTAR PRADESH  RAPE OF CHILDREN   9934\n",
       "102        UTTARAKHAND  RAPE OF CHILDREN    236\n",
       "103        WEST BENGAL  RAPE OF CHILDREN    794\n",
       "104     TOTAL (STATES)  RAPE OF CHILDREN  62598\n",
       "105      A & N ISLANDS  RAPE OF CHILDREN    110\n",
       "106         CHANDIGARH  RAPE OF CHILDREN    170\n",
       "107       D & N HAVELI  RAPE OF CHILDREN     14\n",
       "108        DAMAN & DIU  RAPE OF CHILDREN     18\n",
       "109              DELHI  RAPE OF CHILDREN   3796\n",
       "110        LAKSHADWEEP  RAPE OF CHILDREN      0\n",
       "111         PUDUCHERRY  RAPE OF CHILDREN     71\n",
       "112        TOTAL (UTs)  RAPE OF CHILDREN   4179\n",
       "113  TOTAL (ALL-INDIA)  RAPE OF CHILDREN  66777"
      ]
     },
     "execution_count": 18,
     "metadata": {},
     "output_type": "execute_result"
    }
   ],
   "source": [
    "rape"
   ]
  },
  {
   "cell_type": "code",
   "execution_count": 19,
   "metadata": {},
   "outputs": [],
   "source": [
    "r=rape.drop(rape.index[[-1,-2,-10]])"
   ]
  },
  {
   "cell_type": "code",
   "execution_count": 20,
   "metadata": {},
   "outputs": [
    {
     "data": {
      "text/plain": [
       "<matplotlib.axes._subplots.AxesSubplot at 0x1aa024548e0>"
      ]
     },
     "execution_count": 20,
     "metadata": {},
     "output_type": "execute_result"
    },
    {
     "data": {
      "image/png": "[encoded data removed]",
      "text/plain": [
       "<Figure size 432x288 with 1 Axes>"
      ]
     },
     "metadata": {
      "needs_background": "light"
     },
     "output_type": "display_data"
    }
   ],
   "source": [
    "r.plot(kind='bar',x='State/UT',y='count',color='blue')"
   ]
  },
  {
   "cell_type": "code",
   "execution_count": 31,
   "metadata": {},
   "outputs": [
    {
     "data": {
      "text/html": [
       "<div>\n",
       "<style scoped>\n",
       "    .dataframe tbody tr th:only-of-type {\n",
       "        vertical-align: middle;\n",
       "    }\n",
       "\n",
       "    .dataframe tbody tr th {\n",
       "        vertical-align: top;\n",
       "    }\n",
       "\n",
       "    .dataframe thead th {\n",
       "        text-align: right;\n",
       "    }\n",
       "</style>\n",
       "<table border=\"1\" class=\"dataframe\">\n",
       "  <thead>\n",
       "    <tr style=\"text-align: right;\">\n",
       "      <th></th>\n",
       "      <th>State/UT</th>\n",
       "      <th>crime_list</th>\n",
       "      <th>count</th>\n",
       "    </tr>\n",
       "  </thead>\n",
       "  <tbody>\n",
       "    <tr>\n",
       "      <th>114</th>\n",
       "      <td>ANDHRA PRADESH</td>\n",
       "      <td>KIDNAPPING and ABDUCTION OF CHILDREN</td>\n",
       "      <td>6093</td>\n",
       "    </tr>\n",
       "    <tr>\n",
       "      <th>115</th>\n",
       "      <td>ARUNACHAL PRADESH</td>\n",
       "      <td>KIDNAPPING and ABDUCTION OF CHILDREN</td>\n",
       "      <td>105</td>\n",
       "    </tr>\n",
       "    <tr>\n",
       "      <th>116</th>\n",
       "      <td>ASSAM</td>\n",
       "      <td>KIDNAPPING and ABDUCTION OF CHILDREN</td>\n",
       "      <td>204</td>\n",
       "    </tr>\n",
       "    <tr>\n",
       "      <th>117</th>\n",
       "      <td>BIHAR</td>\n",
       "      <td>KIDNAPPING and ABDUCTION OF CHILDREN</td>\n",
       "      <td>8579</td>\n",
       "    </tr>\n",
       "    <tr>\n",
       "      <th>118</th>\n",
       "      <td>CHHATTISGARH</td>\n",
       "      <td>KIDNAPPING and ABDUCTION OF CHILDREN</td>\n",
       "      <td>1333</td>\n",
       "    </tr>\n",
       "    <tr>\n",
       "      <th>119</th>\n",
       "      <td>GOA</td>\n",
       "      <td>KIDNAPPING and ABDUCTION OF CHILDREN</td>\n",
       "      <td>160</td>\n",
       "    </tr>\n",
       "    <tr>\n",
       "      <th>120</th>\n",
       "      <td>GUJARAT</td>\n",
       "      <td>KIDNAPPING and ABDUCTION OF CHILDREN</td>\n",
       "      <td>5558</td>\n",
       "    </tr>\n",
       "    <tr>\n",
       "      <th>121</th>\n",
       "      <td>HARYANA</td>\n",
       "      <td>KIDNAPPING and ABDUCTION OF CHILDREN</td>\n",
       "      <td>1609</td>\n",
       "    </tr>\n",
       "    <tr>\n",
       "      <th>122</th>\n",
       "      <td>HIMACHAL PRADESH</td>\n",
       "      <td>KIDNAPPING and ABDUCTION OF CHILDREN</td>\n",
       "      <td>591</td>\n",
       "    </tr>\n",
       "    <tr>\n",
       "      <th>123</th>\n",
       "      <td>JAMMU &amp; KASHMIR</td>\n",
       "      <td>KIDNAPPING and ABDUCTION OF CHILDREN</td>\n",
       "      <td>219</td>\n",
       "    </tr>\n",
       "    <tr>\n",
       "      <th>124</th>\n",
       "      <td>JHARKHAND</td>\n",
       "      <td>KIDNAPPING and ABDUCTION OF CHILDREN</td>\n",
       "      <td>245</td>\n",
       "    </tr>\n",
       "    <tr>\n",
       "      <th>125</th>\n",
       "      <td>KARNATAKA</td>\n",
       "      <td>KIDNAPPING and ABDUCTION OF CHILDREN</td>\n",
       "      <td>881</td>\n",
       "    </tr>\n",
       "    <tr>\n",
       "      <th>126</th>\n",
       "      <td>KERALA</td>\n",
       "      <td>KIDNAPPING and ABDUCTION OF CHILDREN</td>\n",
       "      <td>1012</td>\n",
       "    </tr>\n",
       "    <tr>\n",
       "      <th>127</th>\n",
       "      <td>MADHYA PRADESH</td>\n",
       "      <td>KIDNAPPING and ABDUCTION OF CHILDREN</td>\n",
       "      <td>4517</td>\n",
       "    </tr>\n",
       "    <tr>\n",
       "      <th>128</th>\n",
       "      <td>MAHARASHTRA</td>\n",
       "      <td>KIDNAPPING and ABDUCTION OF CHILDREN</td>\n",
       "      <td>7549</td>\n",
       "    </tr>\n",
       "    <tr>\n",
       "      <th>129</th>\n",
       "      <td>MANIPUR</td>\n",
       "      <td>KIDNAPPING and ABDUCTION OF CHILDREN</td>\n",
       "      <td>281</td>\n",
       "    </tr>\n",
       "    <tr>\n",
       "      <th>130</th>\n",
       "      <td>MEGHALAYA</td>\n",
       "      <td>KIDNAPPING and ABDUCTION OF CHILDREN</td>\n",
       "      <td>47</td>\n",
       "    </tr>\n",
       "    <tr>\n",
       "      <th>131</th>\n",
       "      <td>MIZORAM</td>\n",
       "      <td>KIDNAPPING and ABDUCTION OF CHILDREN</td>\n",
       "      <td>7</td>\n",
       "    </tr>\n",
       "    <tr>\n",
       "      <th>132</th>\n",
       "      <td>NAGALAND</td>\n",
       "      <td>KIDNAPPING and ABDUCTION OF CHILDREN</td>\n",
       "      <td>16</td>\n",
       "    </tr>\n",
       "    <tr>\n",
       "      <th>133</th>\n",
       "      <td>ODISHA</td>\n",
       "      <td>KIDNAPPING and ABDUCTION OF CHILDREN</td>\n",
       "      <td>402</td>\n",
       "    </tr>\n",
       "    <tr>\n",
       "      <th>134</th>\n",
       "      <td>PUNJAB</td>\n",
       "      <td>KIDNAPPING and ABDUCTION OF CHILDREN</td>\n",
       "      <td>2355</td>\n",
       "    </tr>\n",
       "    <tr>\n",
       "      <th>135</th>\n",
       "      <td>RAJASTHAN</td>\n",
       "      <td>KIDNAPPING and ABDUCTION OF CHILDREN</td>\n",
       "      <td>2952</td>\n",
       "    </tr>\n",
       "    <tr>\n",
       "      <th>136</th>\n",
       "      <td>SIKKIM</td>\n",
       "      <td>KIDNAPPING and ABDUCTION OF CHILDREN</td>\n",
       "      <td>32</td>\n",
       "    </tr>\n",
       "    <tr>\n",
       "      <th>137</th>\n",
       "      <td>TAMIL NADU</td>\n",
       "      <td>KIDNAPPING and ABDUCTION OF CHILDREN</td>\n",
       "      <td>2506</td>\n",
       "    </tr>\n",
       "    <tr>\n",
       "      <th>138</th>\n",
       "      <td>TRIPURA</td>\n",
       "      <td>KIDNAPPING and ABDUCTION OF CHILDREN</td>\n",
       "      <td>148</td>\n",
       "    </tr>\n",
       "    <tr>\n",
       "      <th>139</th>\n",
       "      <td>UTTAR PRADESH</td>\n",
       "      <td>KIDNAPPING and ABDUCTION OF CHILDREN</td>\n",
       "      <td>30625</td>\n",
       "    </tr>\n",
       "    <tr>\n",
       "      <th>140</th>\n",
       "      <td>UTTARAKHAND</td>\n",
       "      <td>KIDNAPPING and ABDUCTION OF CHILDREN</td>\n",
       "      <td>311</td>\n",
       "    </tr>\n",
       "    <tr>\n",
       "      <th>141</th>\n",
       "      <td>WEST BENGAL</td>\n",
       "      <td>KIDNAPPING and ABDUCTION OF CHILDREN</td>\n",
       "      <td>2626</td>\n",
       "    </tr>\n",
       "    <tr>\n",
       "      <th>142</th>\n",
       "      <td>TOTAL (STATES)</td>\n",
       "      <td>KIDNAPPING and ABDUCTION OF CHILDREN</td>\n",
       "      <td>80963</td>\n",
       "    </tr>\n",
       "    <tr>\n",
       "      <th>143</th>\n",
       "      <td>A &amp; N ISLANDS</td>\n",
       "      <td>KIDNAPPING and ABDUCTION OF CHILDREN</td>\n",
       "      <td>55</td>\n",
       "    </tr>\n",
       "    <tr>\n",
       "      <th>144</th>\n",
       "      <td>CHANDIGARH</td>\n",
       "      <td>KIDNAPPING and ABDUCTION OF CHILDREN</td>\n",
       "      <td>292</td>\n",
       "    </tr>\n",
       "    <tr>\n",
       "      <th>145</th>\n",
       "      <td>D &amp; N HAVELI</td>\n",
       "      <td>KIDNAPPING and ABDUCTION OF CHILDREN</td>\n",
       "      <td>78</td>\n",
       "    </tr>\n",
       "    <tr>\n",
       "      <th>146</th>\n",
       "      <td>DAMAN &amp; DIU</td>\n",
       "      <td>KIDNAPPING and ABDUCTION OF CHILDREN</td>\n",
       "      <td>6</td>\n",
       "    </tr>\n",
       "    <tr>\n",
       "      <th>147</th>\n",
       "      <td>DELHI</td>\n",
       "      <td>KIDNAPPING and ABDUCTION OF CHILDREN</td>\n",
       "      <td>3464</td>\n",
       "    </tr>\n",
       "    <tr>\n",
       "      <th>148</th>\n",
       "      <td>LAKSHADWEEP</td>\n",
       "      <td>KIDNAPPING and ABDUCTION OF CHILDREN</td>\n",
       "      <td>0</td>\n",
       "    </tr>\n",
       "    <tr>\n",
       "      <th>149</th>\n",
       "      <td>PUDUCHERRY</td>\n",
       "      <td>KIDNAPPING and ABDUCTION OF CHILDREN</td>\n",
       "      <td>111</td>\n",
       "    </tr>\n",
       "    <tr>\n",
       "      <th>150</th>\n",
       "      <td>TOTAL (UTs)</td>\n",
       "      <td>KIDNAPPING and ABDUCTION OF CHILDREN</td>\n",
       "      <td>4006</td>\n",
       "    </tr>\n",
       "    <tr>\n",
       "      <th>151</th>\n",
       "      <td>TOTAL (ALL-INDIA)</td>\n",
       "      <td>KIDNAPPING and ABDUCTION OF CHILDREN</td>\n",
       "      <td>84969</td>\n",
       "    </tr>\n",
       "  </tbody>\n",
       "</table>\n",
       "</div>"
      ],
      "text/plain": [
       "              State/UT                            crime_list  count\n",
       "114     ANDHRA PRADESH  KIDNAPPING and ABDUCTION OF CHILDREN   6093\n",
       "115  ARUNACHAL PRADESH  KIDNAPPING and ABDUCTION OF CHILDREN    105\n",
       "116              ASSAM  KIDNAPPING and ABDUCTION OF CHILDREN    204\n",
       "117              BIHAR  KIDNAPPING and ABDUCTION OF CHILDREN   8579\n",
       "118       CHHATTISGARH  KIDNAPPING and ABDUCTION OF CHILDREN   1333\n",
       "119                GOA  KIDNAPPING and ABDUCTION OF CHILDREN    160\n",
       "120            GUJARAT  KIDNAPPING and ABDUCTION OF CHILDREN   5558\n",
       "121            HARYANA  KIDNAPPING and ABDUCTION OF CHILDREN   1609\n",
       "122   HIMACHAL PRADESH  KIDNAPPING and ABDUCTION OF CHILDREN    591\n",
       "123    JAMMU & KASHMIR  KIDNAPPING and ABDUCTION OF CHILDREN    219\n",
       "124          JHARKHAND  KIDNAPPING and ABDUCTION OF CHILDREN    245\n",
       "125          KARNATAKA  KIDNAPPING and ABDUCTION OF CHILDREN    881\n",
       "126             KERALA  KIDNAPPING and ABDUCTION OF CHILDREN   1012\n",
       "127     MADHYA PRADESH  KIDNAPPING and ABDUCTION OF CHILDREN   4517\n",
       "128        MAHARASHTRA  KIDNAPPING and ABDUCTION OF CHILDREN   7549\n",
       "129            MANIPUR  KIDNAPPING and ABDUCTION OF CHILDREN    281\n",
       "130          MEGHALAYA  KIDNAPPING and ABDUCTION OF CHILDREN     47\n",
       "131            MIZORAM  KIDNAPPING and ABDUCTION OF CHILDREN      7\n",
       "132           NAGALAND  KIDNAPPING and ABDUCTION OF CHILDREN     16\n",
       "133             ODISHA  KIDNAPPING and ABDUCTION OF CHILDREN    402\n",
       "134             PUNJAB  KIDNAPPING and ABDUCTION OF CHILDREN   2355\n",
       "135          RAJASTHAN  KIDNAPPING and ABDUCTION OF CHILDREN   2952\n",
       "136             SIKKIM  KIDNAPPING and ABDUCTION OF CHILDREN     32\n",
       "137         TAMIL NADU  KIDNAPPING and ABDUCTION OF CHILDREN   2506\n",
       "138            TRIPURA  KIDNAPPING and ABDUCTION OF CHILDREN    148\n",
       "139      UTTAR PRADESH  KIDNAPPING and ABDUCTION OF CHILDREN  30625\n",
       "140        UTTARAKHAND  KIDNAPPING and ABDUCTION OF CHILDREN    311\n",
       "141        WEST BENGAL  KIDNAPPING and ABDUCTION OF CHILDREN   2626\n",
       "142     TOTAL (STATES)  KIDNAPPING and ABDUCTION OF CHILDREN  80963\n",
       "143      A & N ISLANDS  KIDNAPPING and ABDUCTION OF CHILDREN     55\n",
       "144         CHANDIGARH  KIDNAPPING and ABDUCTION OF CHILDREN    292\n",
       "145       D & N HAVELI  KIDNAPPING and ABDUCTION OF CHILDREN     78\n",
       "146        DAMAN & DIU  KIDNAPPING and ABDUCTION OF CHILDREN      6\n",
       "147              DELHI  KIDNAPPING and ABDUCTION OF CHILDREN   3464\n",
       "148        LAKSHADWEEP  KIDNAPPING and ABDUCTION OF CHILDREN      0\n",
       "149         PUDUCHERRY  KIDNAPPING and ABDUCTION OF CHILDREN    111\n",
       "150        TOTAL (UTs)  KIDNAPPING and ABDUCTION OF CHILDREN   4006\n",
       "151  TOTAL (ALL-INDIA)  KIDNAPPING and ABDUCTION OF CHILDREN  84969"
      ]
     },
     "execution_count": 31,
     "metadata": {},
     "output_type": "execute_result"
    }
   ],
   "source": [
    "#Analyzing a specific crime-kidnapping\n",
    "\n",
    "kidnap = d[d.crime_list.str.contains('KIDNAPPING and ABDUCTION OF CHILDREN')]\n",
    "kidnap.shape\n",
    "kidnap"
   ]
  },
  {
   "cell_type": "markdown",
   "metadata": {},
   "source": [
    "Here the Highest of the data comes from Total(All-India) followed by Total(States) and individually we analysed Uttar Pradesh is the state with highest number of cases in kidnapping and abduction of children following by Bihar and Maharashtra."
   ]
  },
  {
   "cell_type": "code",
   "execution_count": 22,
   "metadata": {},
   "outputs": [],
   "source": [
    "k=kidnap.drop(kidnap.index[[-1,-2,-10]])"
   ]
  },
  {
   "cell_type": "code",
   "execution_count": 23,
   "metadata": {},
   "outputs": [
    {
     "data": {
      "text/plain": [
       "<matplotlib.axes._subplots.AxesSubplot at 0x1aa025498e0>"
      ]
     },
     "execution_count": 23,
     "metadata": {},
     "output_type": "execute_result"
    },
    {
     "data": {
      "image/png": "[encoded data removed]",
      "text/plain": [
       "<Figure size 432x288 with 1 Axes>"
      ]
     },
     "metadata": {
      "needs_background": "light"
     },
     "output_type": "display_data"
    }
   ],
   "source": [
    "k.plot(kind='bar',x='State/UT',y='count',color='blue')"
   ]
  },
  {
   "cell_type": "markdown",
   "metadata": {},
   "source": [
    "#Hence plotting the same on graph it shows Uttar Pradesh has the highest number of cases folowing by Bihar,Maharashtra and Andhra Pradesh."
   ]
  },
  {
   "cell_type": "code",
   "execution_count": null,
   "metadata": {},
   "outputs": [],
   "source": []
  }
 ],
 "metadata": {
  "kernelspec": {
   "display_name": "Python 3",
   "language": "python",
   "name": "python3"
  },
  "language_info": {
   "codemirror_mode": {
    "name": "ipython",
    "version": 3
   },
   "file_extension": ".py",
   "mimetype": "text/x-python",
   "name": "python",
   "nbconvert_exporter": "python",
   "pygments_lexer": "ipython3",
   "version": "3.8.3"
  }
 },
 "nbformat": 4,
 "nbformat_minor": 4
}
